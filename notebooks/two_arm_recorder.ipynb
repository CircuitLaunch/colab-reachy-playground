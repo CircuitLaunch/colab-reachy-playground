{
 "cells": [
  {
   "cell_type": "code",
   "execution_count": null,
   "metadata": {},
   "outputs": [],
   "source": [
    "#%matplotlib notebook\n",
    "\n",
    "import time\n",
    "import numpy as np"
   ]
  },
  {
   "cell_type": "code",
   "execution_count": null,
   "metadata": {},
   "outputs": [],
   "source": [
    "from collections import OrderedDict\n",
    "from reachy import parts\n",
    "\n",
    "def patch_right_arm_config(arm_cls):\n",
    "    arm_cls.dxl_motors = OrderedDict([\n",
    "         ('right_arm.shoulder_pitch', {\n",
    "             'id': 10, 'offset': 90.0, 'orientation': 'indirect',\n",
    "             'angle-limits': [-180, 60],\n",
    "             'link-translation': [0, -0.19, 0], 'link-rotation': [0, 1, 0],\n",
    "         }),\n",
    "         ('right_arm.shoulder_roll', {\n",
    "             'id': 11, 'offset': 90.0, 'orientation': 'indirect',\n",
    "             'angle-limits': [-100, 90],\n",
    "             'link-translation': [0, 0, 0], 'link-rotation': [1, 0, 0],\n",
    "         }),\n",
    "         ('right_arm.arm_yaw', {\n",
    "             'id': 12, 'offset': 0.0, 'orientation': 'indirect',\n",
    "             'angle-limits': [-90, 90],\n",
    "             'link-translation': [0, 0, 0], 'link-rotation': [0, 0, 1],\n",
    "         }),\n",
    "         ('right_arm.elbow_pitch', {\n",
    "             'id': 13, 'offset': 0.0, 'orientation': 'indirect',\n",
    "             'angle-limits': [0, 125],\n",
    "           'link-translation': [0, 0, -0.28], 'link-rotation': [0, 1, 0],\n",
    "         }),\n",
    "    ])\n",
    "\n",
    "    return arm_cls\n",
    "\n",
    "def patch_left_arm_config(arm_cls):\n",
    "    arm_cls.dxl_motors = OrderedDict([\n",
    "         ('left_arm.shoulder_pitch', {\n",
    "             'id': 20, 'offset': -90.0, 'orientation': 'indirect',\n",
    "             'angle-limits': [-180, 60],\n",
    "             'link-translation': [0, -0.19, 0], 'link-rotation': [0, 1, 0],\n",
    "         }),\n",
    "         ('left_arm.shoulder_roll', {\n",
    "             'id': 21, 'offset': -90.0, 'orientation': 'indirect',\n",
    "             'angle-limits': [-100, 90],\n",
    "             'link-translation': [0, 0, 0], 'link-rotation': [1, 0, 0],\n",
    "         }),\n",
    "         ('left_arm.arm_yaw', {\n",
    "             'id': 22, 'offset': 0.0, 'orientation': 'indirect',\n",
    "             'angle-limits': [-90, 90],\n",
    "             'link-translation': [0, 0, 0], 'link-rotation': [0, 0, 1],\n",
    "         }),\n",
    "         ('left_arm.elbow_pitch', {\n",
    "             'id': 23, 'offset': 0.0, 'orientation': 'indirect',\n",
    "             'angle-limits': [0, 125],\n",
    "           'left_arm.link-translation': [0, 0, -0.28], 'link-rotation': [0, 1, 0],\n",
    "         }),\n",
    "    ])\n",
    "\n",
    "    return arm_cls\n",
    "\n",
    "def patch_force_gripper(forceGripper):\n",
    "    def __init__(self, root, io):\n",
    "        \"\"\"Create a new Force Gripper Hand.\"\"\"\n",
    "        parts.hand.Hand.__init__(self, root=root, io=io)\n",
    "\n",
    "        dxl_motors = OrderedDict({\n",
    "            name: dict(conf)\n",
    "            for name, conf in self.dxl_motors.items()\n",
    "        })\n",
    "\n",
    "        self.attach_dxl_motors(dxl_motors)\n",
    "\n",
    "        \"\"\"\n",
    "        self._load_sensor = self.io.find_module('force_gripper')\n",
    "        self._load_sensor.offset = 4\n",
    "        self._load_sensor.scale = 10000\n",
    "        \"\"\"\n",
    "\n",
    "    forceGripper.__init__ = __init__\n",
    "\n",
    "    return forceGripper"
   ]
  },
  {
   "cell_type": "code",
   "execution_count": null,
   "metadata": {},
   "outputs": [],
   "source": [
    "# Connect to arms"
   ]
  },
  {
   "cell_type": "code",
   "execution_count": null,
   "metadata": {},
   "outputs": [],
   "source": [
    "from reachy import Reachy, parts"
   ]
  },
  {
   "cell_type": "code",
   "execution_count": null,
   "metadata": {},
   "outputs": [],
   "source": [
    "parts.LeftArm = patch_left_arm_config(parts.LeftArm)"
   ]
  },
  {
   "cell_type": "code",
   "execution_count": null,
   "metadata": {},
   "outputs": [],
   "source": [
    "parts.RightArm = patch_right_arm_config(parts.RightArm)"
   ]
  },
  {
   "cell_type": "code",
   "execution_count": null,
   "metadata": {},
   "outputs": [],
   "source": [
    "parts.arm.LeftForceGripper = patch_force_gripper(parts.arm.LeftForceGripper)"
   ]
  },
  {
   "cell_type": "code",
   "execution_count": null,
   "metadata": {},
   "outputs": [],
   "source": [
    "parts.arm.RightForceGripper = patch_force_gripper(parts.arm.RightForceGripper)"
   ]
  },
  {
   "cell_type": "code",
   "execution_count": null,
   "metadata": {},
   "outputs": [],
   "source": [
    "reachy = Reachy(\n",
    "    left_arm=parts.LeftArm(io='/dev/ttyUSB*', hand='force_gripper'),\n",
    "    right_arm=parts.RightArm(io='/dev/ttyUSB*', hand='force_gripper'),\n",
    ")"
   ]
  },
  {
   "cell_type": "markdown",
   "metadata": {},
   "source": [
    "## Turn stiff"
   ]
  },
  {
   "cell_type": "code",
   "execution_count": null,
   "metadata": {},
   "outputs": [],
   "source": [
    "for m in reachy.left_arm.motors:\n",
    "    m.compliant = False\n",
    "for m in reachy.right_arm.motors:\n",
    "    m.compliant = False"
   ]
  },
  {
   "cell_type": "markdown",
   "metadata": {},
   "source": [
    "## Turn compliant"
   ]
  },
  {
   "cell_type": "code",
   "execution_count": null,
   "metadata": {},
   "outputs": [],
   "source": [
    "for m in reachy.left_arm.motors:\n",
    "    m.compliant = True\n",
    "for m in reachy.right_arm.motors:\n",
    "    m.compliant = True"
   ]
  },
  {
   "cell_type": "markdown",
   "metadata": {},
   "source": [
    "# Record Gesture"
   ]
  },
  {
   "cell_type": "code",
   "execution_count": null,
   "metadata": {},
   "outputs": [],
   "source": [
    "from reachy.trajectory import TrajectoryRecorder, TrajectoryPlayer"
   ]
  },
  {
   "cell_type": "code",
   "execution_count": null,
   "metadata": {},
   "outputs": [],
   "source": [
    "recorder = TrajectoryRecorder(reachy.left_arm.motors, reachy.right_arm.motors)"
   ]
  },
  {
   "cell_type": "markdown",
   "metadata": {},
   "source": [
    "We will record a move for 10sec. Make sure you hold the robot away from all objects before starting the record.\n"
   ]
  },
  {
   "cell_type": "code",
   "execution_count": null,
   "metadata": {},
   "outputs": [],
   "source": [
    "recorder.start()\n",
    "time.sleep(10)\n",
    "recorder.stop()"
   ]
  },
  {
   "cell_type": "code",
   "execution_count": null,
   "metadata": {},
   "outputs": [],
   "source": [
    "## Turn Stiff\n",
    "for m in reachy.left_arm.motors:\n",
    "    m.compliant = False\n",
    "for m in reachy.right_arm.motors:\n",
    "    m.compliant = False"
   ]
  },
  {
   "cell_type": "code",
   "execution_count": null,
   "metadata": {},
   "outputs": [],
   "source": [
    "player = TrajectoryPlayer(reachy, recorder.trajectories)\n",
    "player.play(wait=True, fade_in_duration=3)"
   ]
  }
 ],
 "metadata": {
  "kernelspec": {
   "display_name": "Python 3",
   "language": "python",
   "name": "python3"
  },
  "language_info": {
   "codemirror_mode": {
    "name": "ipython",
    "version": 3
   },
   "file_extension": ".py",
   "mimetype": "text/x-python",
   "name": "python",
   "nbconvert_exporter": "python",
   "pygments_lexer": "ipython3",
   "version": "3.8.5"
  }
 },
 "nbformat": 4,
 "nbformat_minor": 4
}
